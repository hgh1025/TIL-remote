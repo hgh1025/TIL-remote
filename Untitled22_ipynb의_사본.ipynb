{
  "nbformat": 4,
  "nbformat_minor": 0,
  "metadata": {
    "colab": {
      "name": "Untitled22.ipynb의 사본",
      "provenance": [],
      "authorship_tag": "ABX9TyOidjQqG5+Nx5Gwh5q32Rzq",
      "include_colab_link": true
    },
    "kernelspec": {
      "name": "python3",
      "display_name": "Python 3"
    },
    "language_info": {
      "name": "python"
    }
  },
  "cells": [
    {
      "cell_type": "markdown",
      "metadata": {
        "id": "view-in-github",
        "colab_type": "text"
      },
      "source": [
        "<a href=\"https://colab.research.google.com/github/hgh1025/TIL-remote/blob/master/Untitled22_ipynb%EC%9D%98_%EC%82%AC%EB%B3%B8.ipynb\" target=\"_parent\"><img src=\"https://colab.research.google.com/assets/colab-badge.svg\" alt=\"Open In Colab\"/></a>"
      ]
    },
    {
      "cell_type": "code",
      "execution_count": null,
      "metadata": {
        "colab": {
          "base_uri": "https://localhost:8080/"
        },
        "id": "bxFQFCg5mKZC",
        "outputId": "137efb74-be20-4151-8232-33fa1b3f0839"
      },
      "outputs": [
        {
          "output_type": "stream",
          "name": "stdout",
          "text": [
            "[출구]<-- ['화사', '솔라', None, None, None] <--[입구]\n",
            "식사 손님 : 화사\n",
            "식사 손님 : 솔라\n",
            "[출구]<-- [None, None, None, None, None] <--[입구]\n"
          ]
        }
      ],
      "source": [
        "##함수\n",
        "\n",
        "## 변수\n",
        "SIZE=5\n",
        "queue= [None for _ in range(SIZE)]\n",
        "front =rear = -1\n",
        "\n",
        "##메인\n",
        "\n",
        "##enQueue\n",
        "rear += 1\n",
        "queue[rear] = '화사'\n",
        "rear += 1\n",
        "queue[rear] = '솔라'\n",
        "print('[출구]<--',queue,'<--[입구]')\n",
        "\n",
        "##deQueue\n",
        "front += 1\n",
        "data = queue[front]\n",
        "queue[front] = None\n",
        "print('식사 손님 :',data)\n",
        "\n",
        "front += 1\n",
        "data = queue[front]\n",
        "queue[front] = None\n",
        "print('식사 손님 :',data)\n",
        "print('[출구]<--',queue,'<--[입구]')\n",
        "\n"
      ]
    },
    {
      "cell_type": "code",
      "source": [
        "##함수\n",
        "def isQueueFull():\n",
        "  global SIZE, queue, front, rear\n",
        "  if(rear == SIZE -1):\n",
        "    return True\n",
        "  else :\n",
        "    return False\n",
        "def enQueue(data) :\n",
        "  global SIZE, queue, front, rear\n",
        "  if (isQueueFull()) : \n",
        "    print('큐 꽉참!')\n",
        "    return\n",
        "  rear += 1\n",
        "  queue[rear] = data\n",
        "\n",
        "def isQueueEmpty():\n",
        "  global SIZE, queue, front, rear\n",
        "  if (front == rear ):\n",
        "    return True\n",
        "  else:\n",
        "    return False\n",
        "\n",
        "def deQueue():\n",
        "  global SIZE, queue, front, rear\n",
        "  if(isQueueEmpty()):\n",
        "    print('큐 텅빔')\n",
        "    return None\n",
        "  front += 1\n",
        "  data = queue[front]\n",
        "  queue[front] = None\n",
        "  return data\n",
        "def peek():\n",
        "  global SIZE, queue, front, rear\n",
        "  if(isQueueEmpty()):\n",
        "    print('큐 텅빔')\n",
        "    return None\n",
        "  return queue[front+1]\n",
        "\n",
        "##변수\n",
        "SIZE=5\n",
        "queue= [None for _ in range(SIZE)]\n",
        "front =rear = -1\n",
        "\n",
        "##메인\n",
        "enQueue('화사')\n",
        "enQueue('솔라')\n",
        "enQueue('문별')\n",
        "#enQueue('휘인')\n",
        "#enQueue('선미')\n",
        "print('[출구]<--',queue,'<--[입구]')\n",
        "\n",
        "#enQueue('재남')\n",
        "#print('[출구]<--',queue,'<--[입구]')\n",
        "\n",
        "retData = deQueue()\n",
        "print('식사손님:', retData)\n",
        "retData = peek()\n",
        "print('준비하세요...', retData)\n",
        "retData = deQueue()\n",
        "print('식사손님:', retData)\n",
        "retData = deQueue()\n",
        "print('식사손님:', retData)\n",
        "retData = deQueue()\n",
        "print('식사손님:', retData)"
      ],
      "metadata": {
        "colab": {
          "base_uri": "https://localhost:8080/"
        },
        "id": "9-F5ZsOpr2cz",
        "outputId": "849445e6-7caa-45f8-9676-8a95d13a490c"
      },
      "execution_count": null,
      "outputs": [
        {
          "output_type": "stream",
          "name": "stdout",
          "text": [
            "[출구]<-- ['화사', '솔라', '문별', None, None] <--[입구]\n",
            "식사손님: 화사\n",
            "준비하세요... 솔라\n",
            "식사손님: 솔라\n",
            "식사손님: 문별\n",
            "큐 텅빔\n",
            "식사손님: None\n"
          ]
        }
      ]
    },
    {
      "cell_type": "code",
      "source": [],
      "metadata": {
        "id": "wyHuGLc-td7z"
      },
      "execution_count": null,
      "outputs": []
    }
  ]
}